{
 "cells": [
  {
   "cell_type": "markdown",
   "metadata": {},
   "source": [
    "## Resilient Distributed Datasets (RDDs) - Lab\n",
    "\n",
    "Resilient Distributed Datasets (RDD) are fundamental data structures of Spark. An RDD is essentially the Spark representation of a set of data, spread across multiple machines, with APIs to let you act on it. An RDD can come from any data source, e.g. text files, a database, a JSON file, etc.\n",
    "\n",
    "\n",
    "## Objectives\n",
    "\n",
    "You will be able to:\n",
    "\n",
    "- Apply the map(func) transformation to a given function on all elements of an RDD in different partitions \n",
    "- Apply a map transformation for all elements of an RDD \n",
    "- Compare the difference between a transformation and an action within RDDs \n",
    "- Use collect(), count(), and take() actions to trigger spark transformations  \n",
    "- Use filter to select data that meets certain specifications within an RDD \n",
    "- Set number of partitions for parallelizing RDDs \n",
    "- Create RDDs from Python collections \n"
   ]
  },
  {
   "cell_type": "markdown",
   "metadata": {},
   "source": [
    "## What are RDDs? \n",
    "\n",
    "To get a better understanding of RDDs, let's break down each one of the components of the acronym RDD:\n",
    "\n",
    "Resilient: RDDs are considered \"resilient\" because they have built-in fault tolerance. This means that even if one of the nodes goes offline, RDDs will be able to restore the data. This is already a huge advantage compared to standard storage. If a standard computer dies while performing an operation, all of its memory will be lost in the process. With RDDs, multiple nodes can go offline, and the action will still be held in working memory.\n",
    "\n",
    "Distributed: The data is contained on multiple nodes of a cluster-computing operation. It is efficiently partitioned to allow for parallelism.\n",
    "\n",
    "Dataset: The dataset has been * partitioned * across the multiple nodes. \n",
    "\n",
    "RDDs are the building block upon which more high-level Spark operations are based upon. Chances are, if you are performing an action using Spark, the operation involves RDDs. \n",
    "\n",
    "\n",
    "\n",
    "Key Characteristics of RDDs:\n",
    "\n",
    "- Immutable: Once an RDD is created, it cannot be modified. \n",
    "- Lazily Evaluated: RDDs will not be evaluated until an action is triggered. Essentially, when RDDs are created, they are programmed to perform some action, but that function will not get activated until it is explicitly called. The reason for lazy evaluation is that allows users to organize the actions of their Spark program into smaller actions. It also saves unnecessary computation and memory load.\n",
    "- In-Memory: The operations in Spark are performed in-memory rather than in the database. This is what allows Spark to perform fast operations with very large quantities of data.\n",
    "\n",
    "\n"
   ]
  },
  {
   "cell_type": "markdown",
   "metadata": {},
   "source": [
    "### RDD Transformations vs Actions\n",
    "\n",
    "In Spark, we first create a __base RDD__ and then apply one or more transformations to that base RDD following our processing needs. Being immutable means, **once an RDD is created, it cannot be changed**. As a result, **each transformation of an RDD creates a new RDD**. Finally, we can apply one or more **actions** to the RDDs. Spark uses lazy evaluation, so transformations are not actually executed until an action occurs.\n",
    "\n",
    "\n",
    "<img src=\"./images/rdd_diagram.png\" width=500>"
   ]
  },
  {
   "cell_type": "markdown",
   "metadata": {},
   "source": [
    "### Transformations\n",
    "\n",
    "Transformations create a new dataset from an existing one by passing each dataset element through a function and returning a new RDD representing the results. In short, creating an RDD from an existing RDD is ‘transformation’.\n",
    "All transformations in Spark are lazy. They do not compute their results right away. Instead, they just remember the transformations applied to some base dataset (e.g. a file). The transformations are only computed when an action requires a result that needs to be returned to the driver program.\n",
    "A transformation is an RDD that returns another RDD, like map, flatMap, filter, reduceByKey, join, cogroup, etc.\n",
    "\n",
    "### Actions\n",
    "Actions return final results of RDD computations. Actions trigger execution using lineage graph to load the data into original RDD and carry out all intermediate transformations and return the final results to the driver program or writes it out to the file system. An action returns a value (to a Spark driver - the user program).\n",
    "\n",
    "Here are some key transformations and actions that we will explore.\n",
    "\n",
    "\n",
    "| Transformations   | Actions       |\n",
    "|-------------------|---------------|\n",
    "| map(func)         | reduce(func)  |\n",
    "| filter(func)      | collect()     |\n",
    "| groupByKey()      | count()       |\n",
    "| reduceByKey(func) | first()       |\n",
    "| mapValues(func)   | take()        |\n",
    "| sample()          | countByKey()  |\n",
    "| distinct()        | foreach(func) |\n",
    "| sortByKey()       |               |\n"
   ]
  },
  {
   "cell_type": "markdown",
   "metadata": {},
   "source": [
    "Let's see how transformations and actions work through a simple example. In this example, we will perform several actions and transformations on RDDs in order to obtain a better understanding of Spark processing. \n",
    "\n",
    "### Create a Python collection \n",
    "\n",
    "We need some data to start experimenting with RDDs. Let's create some sample data and see how RDDs handle it. To practice working with RDDs, we're going to use a simple Python list.\n",
    "\n",
    "- Create a Python list `data` of integers between 1 and 1000 using the `range()` function. \n",
    "- Sanity check: confirm the length of the list (it should be 1000)"
   ]
  },
  {
   "cell_type": "code",
   "execution_count": null,
   "metadata": {},
   "outputs": [],
   "source": [
    "data = None\n",
    "len(data)\n",
    "\n",
    "# 1000"
   ]
  },
  {
   "cell_type": "markdown",
   "metadata": {},
   "source": [
    "### Initialize an RDD\n",
    "\n",
    "When using Spark to make computations, datasets are treated as lists of entries. Those lists are split into different partitions across different cores or different computers. Each list of data held in memory is a partition of the RDD. The reason why Spark is able to make computations far faster than other big data processing languages is that it allows all data to be stored __in-memory__, which allows for easy access to the data and, in turn, high-speed processing. Here is an example of how the alphabet might be split into different RDDs and held across a distributed collection of nodes:\n",
    "\n",
    "<img src =\"./images/partitions_1.png\" width =\"500\">  \n",
    "To initialize an RDD, first import `pyspark` and then create a SparkContext assigned to the variable `sc`. Use `'local[*]'` as the master."
   ]
  },
  {
   "cell_type": "code",
   "execution_count": null,
   "metadata": {},
   "outputs": [],
   "source": [
    "\n",
    "sc = None"
   ]
  },
  {
   "cell_type": "markdown",
   "metadata": {},
   "source": [
    "Once you've created the SparkContext, you can use the `.parallelize()` method to create an RDD that will distribute the list of numbers across multiple cores. Here, create one called `rdd` with 10 partitions using `data` as the collection you are parallelizing."
   ]
  },
  {
   "cell_type": "code",
   "execution_count": null,
   "metadata": {},
   "outputs": [],
   "source": [
    "rdd = None\n",
    "print(type(rdd))\n",
    "# <class 'pyspark.rdd.RDD'>"
   ]
  },
  {
   "cell_type": "markdown",
   "metadata": {},
   "source": [
    "Determine how many partitions are being used with this RDD with the `.getNumPartitions()` method."
   ]
  },
  {
   "cell_type": "code",
   "execution_count": null,
   "metadata": {},
   "outputs": [],
   "source": [
    "rdd.getNumPartitions()\n",
    "# 10"
   ]
  },
  {
   "cell_type": "markdown",
   "metadata": {},
   "source": [
    "### Basic descriptive RDD actions\n",
    "\n",
    "Let's perform some basic operations on our RDD. In the cell below, use the methods:\n",
    "* `count`: returns the total count of items in the RDD \n",
    "* `first`: returns the first item in the RDD\n",
    "* `take`: returns the first `n` items in the RDD\n",
    "* `top`: returns the top `n` items\n",
    "* `collect`: returns everything from your RDD\n",
    "\n",
    "\n",
    "It's important to note that in a big data context, calling the collect method will often take a very long time to execute and should be handled with care!"
   ]
  },
  {
   "cell_type": "code",
   "execution_count": null,
   "metadata": {
    "scrolled": true
   },
   "outputs": [],
   "source": [
    "# count\n"
   ]
  },
  {
   "cell_type": "code",
   "execution_count": null,
   "metadata": {},
   "outputs": [],
   "source": [
    "# first\n"
   ]
  },
  {
   "cell_type": "code",
   "execution_count": null,
   "metadata": {},
   "outputs": [],
   "source": [
    "# take\n"
   ]
  },
  {
   "cell_type": "code",
   "execution_count": null,
   "metadata": {},
   "outputs": [],
   "source": [
    "# top\n"
   ]
  },
  {
   "cell_type": "code",
   "execution_count": null,
   "metadata": {
    "scrolled": true
   },
   "outputs": [],
   "source": [
    "# collect\n"
   ]
  },
  {
   "cell_type": "markdown",
   "metadata": {},
   "source": [
    "## Map functions\n",
    "\n",
    "Now that you've been working a little bit with RDDs, let's make this a little more interesting. Imagine you're running a hot new e-commerce startup called BuyStuff, and you're trying to track of how much it charges customers from each item sold. In the next cell, we're going to create simulated data by multiplying the values 1-1000 with a random number from 0-1."
   ]
  },
  {
   "cell_type": "code",
   "execution_count": 1,
   "metadata": {},
   "outputs": [
    {
     "data": {
      "text/plain": [
       "array([7.22991883e-01, 5.27193462e-01, 1.40405880e+00, 3.98894204e+00,\n",
       "       3.30453708e+00, 7.31671911e-01, 7.13766728e-01, 7.36878665e+00,\n",
       "       2.54818994e-01, 8.69947414e+00, 5.10268445e+00, 3.08778672e-01,\n",
       "       2.62137840e+00, 1.12369274e+01, 7.17700607e+00, 1.42685770e+01,\n",
       "       7.45816895e+00, 5.69134085e+00, 1.24387106e+01, 1.16411129e+01,\n",
       "       9.48959685e-01, 1.25383071e+01, 2.76803103e+00, 2.34205577e+01,\n",
       "       1.44043294e+01, 2.52005385e+01, 2.13242281e+01, 2.68511438e+01,\n",
       "       1.43318566e+01, 2.93641171e+01, 2.78676644e+01, 2.55070796e+01,\n",
       "       3.09485469e+01, 1.57328549e+01, 2.80221341e+01, 1.80977288e+01,\n",
       "       1.54860311e+01, 3.39023171e+01, 2.83305185e+00, 2.40124894e+01,\n",
       "       2.46437472e+01, 2.35884407e+01, 5.13434416e+00, 7.99998118e+00,\n",
       "       9.93127430e+00, 7.10481284e+00, 2.05263355e+01, 1.18673970e+01,\n",
       "       2.08479837e+01, 1.40628822e+01, 4.16439204e+01, 1.81115659e+01,\n",
       "       1.56148160e+01, 2.95095000e+01, 1.08677511e+01, 8.53991617e+00,\n",
       "       2.58500361e+01, 4.22658003e+00, 5.68891660e+01, 3.42844849e+01,\n",
       "       2.39708245e+01, 5.43648458e+01, 2.26894226e+01, 4.82629386e+01,\n",
       "       5.05652648e+01, 1.51643872e+01, 2.93504262e+00, 9.14180897e+00,\n",
       "       2.43738550e+01, 6.80450419e+01, 1.87311885e-01, 3.26440722e+01,\n",
       "       4.67535903e+01, 6.06574952e+01, 5.36754642e+01, 4.87322224e+01,\n",
       "       4.03989759e+01, 4.41434528e+01, 2.45104156e+01, 6.44837959e+01,\n",
       "       5.23499647e+01, 6.45177684e+01, 8.27338802e+01, 8.15352172e+01,\n",
       "       2.74618487e+01, 8.28885596e+01, 1.78388983e+01, 3.87043550e+01,\n",
       "       8.83118162e+01, 2.19231923e+01, 2.08960255e+01, 6.74458475e+01,\n",
       "       2.88062739e+00, 1.64315802e+01, 5.93646938e+01, 2.89144621e+01,\n",
       "       6.83838077e+01, 7.03618340e+01, 7.05866559e+01, 4.46413416e+01,\n",
       "       6.29794363e+01, 9.19680652e+01, 7.63078970e+01, 7.34572336e+01,\n",
       "       8.12369914e+01, 3.27978155e+01, 8.43219613e+01, 7.91062205e+01,\n",
       "       4.41165615e+01, 2.32998873e+01, 3.18938956e+01, 2.67186925e+01,\n",
       "       9.10067949e+01, 1.57138951e+01, 7.84798066e+01, 9.92373217e+01,\n",
       "       6.16137423e+01, 5.86518837e+01, 1.13305779e+02, 6.24839793e+01,\n",
       "       1.20104383e+02, 7.13423041e+01, 1.20871628e+02, 2.68958292e+01,\n",
       "       9.55076024e+01, 2.76282787e+00, 4.88148384e+01, 1.04885901e+01,\n",
       "       1.27805812e+02, 4.90063610e+01, 1.18240479e+02, 2.19120055e+00,\n",
       "       1.50608040e+01, 1.32568186e+02, 1.28846134e+02, 1.35656943e+02,\n",
       "       8.01199762e+01, 1.30157993e+02, 2.99773796e+01, 6.98265595e+01,\n",
       "       3.02159946e+01, 1.37287739e+02, 8.01768344e+01, 7.75675782e+01,\n",
       "       5.89510388e+01, 4.05537052e+01, 9.12622770e+01, 7.84541134e-01,\n",
       "       1.42205470e+02, 1.10269947e+02, 2.86460054e+01, 3.93059439e+01,\n",
       "       5.67761283e+00, 3.89528109e+01, 3.25065682e+01, 2.41695897e+01,\n",
       "       1.38165356e+02, 6.76007984e+01, 1.29191740e+02, 5.39018722e+01,\n",
       "       9.02123653e+01, 9.20438427e+01, 1.11662862e+01, 8.67222886e+01,\n",
       "       1.53870301e+02, 2.48659425e+01, 2.20084056e+01, 5.00509494e+01,\n",
       "       1.45621739e+02, 1.50959051e+02, 1.39277268e+02, 2.54133476e+01,\n",
       "       3.19733648e+01, 7.79940213e+01, 1.29594114e+02, 5.96816834e+01,\n",
       "       4.66827959e+01, 1.12641003e+02, 1.30962627e+00, 1.32163962e+02,\n",
       "       1.44562221e+02, 5.49329353e+01, 1.19040729e+02, 6.19884539e+01,\n",
       "       3.16949221e+01, 1.79056925e+02, 1.75340959e+01, 1.23694983e+02,\n",
       "       1.84639350e+02, 5.39416040e+01, 1.87436908e+02, 4.33768677e+01,\n",
       "       7.56517943e+01, 8.07296471e+01, 1.07277613e+02, 1.56263054e+02,\n",
       "       1.60831049e+02, 5.39472666e+01, 8.77840961e+01, 8.88041791e+01,\n",
       "       1.65704525e+02, 1.15428179e+02, 8.94672253e+01, 5.01171745e+01,\n",
       "       5.06610912e+01, 4.55474189e+01, 9.79184340e+01, 2.05728213e+02,\n",
       "       2.88292553e+01, 1.93857665e+01, 1.43633887e+02, 5.13891208e+01,\n",
       "       6.43557712e+01, 1.70856412e+02, 1.84737140e+01, 4.37817232e+01,\n",
       "       1.26563037e+02, 1.00252013e+02, 7.91997467e+01, 4.95993640e+01,\n",
       "       5.17235905e+01, 1.76918180e+02, 2.14396384e+02, 9.72497880e+01,\n",
       "       9.61262225e+01, 4.88004832e+01, 3.67490740e+01, 1.00136177e+02,\n",
       "       1.96771817e+01, 1.67894139e+02, 2.60799572e+01, 1.94638810e+02,\n",
       "       2.13155561e+02, 2.05825978e+02, 6.10172966e+01, 1.31427267e+02,\n",
       "       1.80385132e+02, 6.13345988e+01, 2.05745447e+02, 3.25333116e+01,\n",
       "       4.66323488e+01, 1.46266849e+02, 3.23936543e+01, 2.04232746e+02,\n",
       "       2.13712407e+02, 1.44921316e+01, 5.68555548e+01, 1.89387706e+02,\n",
       "       1.20668581e+02, 1.96097333e+02, 1.73330714e+02, 6.38113421e+01,\n",
       "       2.45681908e+02, 7.89840423e+01, 7.79116704e+01, 8.63337412e+01,\n",
       "       9.19484192e+01, 4.93924749e+01, 6.58249741e+01, 3.02978187e+01,\n",
       "       9.79179480e+01, 1.18832113e+02, 2.32290181e+01, 6.12539522e+01,\n",
       "       1.97522550e+02, 1.39540964e+02, 1.23353878e+02, 1.93869783e+01,\n",
       "       1.94335617e+02, 2.15549564e+02, 8.98590846e+01, 2.58922982e+01,\n",
       "       1.15768000e+01, 2.32104358e+01, 2.57248644e+02, 5.01896150e+01,\n",
       "       1.22066997e+02, 1.90785881e+02, 1.94155019e+02, 1.70173914e+02,\n",
       "       1.90327572e+02, 6.81395967e+01, 2.96684869e+01, 2.63566301e+02,\n",
       "       8.15211911e+01, 8.88838580e+01, 1.15869310e+02, 1.19156704e+02,\n",
       "       1.54065929e+02, 2.70192393e+02, 1.58935790e+02, 1.26063179e+02,\n",
       "       1.26981959e+02, 1.19188809e+02, 2.89797572e+02, 1.72881542e+02,\n",
       "       1.99261957e+02, 1.76780971e+02, 2.67667185e+02, 9.09112277e+01,\n",
       "       2.58562228e+02, 1.57132855e+02, 1.68598922e+02, 8.01913718e+00,\n",
       "       2.91551535e+02, 2.14714104e+02, 7.53345789e+01, 1.29584009e+02,\n",
       "       2.96474508e+02, 1.29683587e+02, 5.84584195e+01, 9.36830373e+01,\n",
       "       2.97937511e+02, 1.32487589e+02, 1.73261784e+02, 1.04104070e+02,\n",
       "       2.02025128e+02, 1.88346176e+02, 1.58992287e+02, 3.18040648e+02,\n",
       "       2.73509289e+02, 2.72690372e+02, 2.00293904e+02, 1.79614812e+02,\n",
       "       1.47458773e+02, 8.96573944e+01, 1.72867458e+02, 7.69773996e+01,\n",
       "       2.66117407e+02, 1.52151455e+02, 7.43495256e+01, 1.36861183e+02,\n",
       "       2.75380620e+02, 1.49807806e+02, 2.76120618e+02, 2.67412094e+02,\n",
       "       2.01792305e+02, 3.07852433e+02, 1.19562402e+02, 1.69969951e+02,\n",
       "       3.45578401e+01, 2.49997948e+02, 2.77652284e+02, 7.49324917e+01,\n",
       "       3.17531115e+02, 2.76771883e+02, 6.92670581e+01, 2.81452917e+02,\n",
       "       1.88602764e+01, 2.98030129e+02, 1.25296324e+02, 6.92265551e+01,\n",
       "       2.81545684e+02, 3.33546299e+02, 2.10198040e+02, 3.14088939e+01,\n",
       "       3.01759122e+02, 3.33966640e+02, 3.23410418e+02, 1.02859027e+00,\n",
       "       9.98308952e+00, 1.61742602e+02, 2.70955954e+02, 2.44999402e+02,\n",
       "       1.38125286e+02, 1.17960585e+02, 4.95101145e+01, 2.93531165e+02,\n",
       "       2.93879268e+02, 2.51598063e+02, 2.64138928e+02, 1.59851509e+02,\n",
       "       1.64434431e+02, 2.55085803e+02, 1.25075587e+02, 3.64692823e+02,\n",
       "       6.39905367e+01, 3.30867019e+02, 5.44307531e+01, 4.43889347e+01,\n",
       "       9.35263353e+01, 8.86715023e+01, 2.93227958e+02, 3.81574158e+02,\n",
       "       4.48051773e+01, 3.01205701e+02, 3.45859918e+02, 1.31713149e+02,\n",
       "       1.01927876e+01, 1.54300324e+02, 2.86228861e+02, 2.06483346e+02,\n",
       "       1.12725998e+02, 3.75030511e+02, 1.33041110e+02, 3.41562237e+02,\n",
       "       3.89702479e+02, 1.96238427e+02, 3.66236298e+02, 2.17590705e+02,\n",
       "       2.12323189e+02, 3.09124314e+02, 1.85031276e+02, 1.98353736e+02,\n",
       "       2.03862312e+02, 2.72729161e+02, 2.23314571e+02, 3.35522241e+02,\n",
       "       1.92058816e+02, 3.74032160e+02, 1.52626529e+02, 2.54314987e+02,\n",
       "       2.16496422e+02, 6.42082642e+01, 1.67430064e+02, 1.47957748e-01,\n",
       "       3.17190537e+02, 2.61946928e+02, 3.72311519e+02, 3.84866242e+02,\n",
       "       3.08190022e+02, 8.58575221e+01, 1.80998162e+02, 3.94980333e+02,\n",
       "       3.85265925e+02, 4.02753773e+02, 2.60130258e+01, 1.20985741e+02,\n",
       "       1.42656342e+02, 3.66515212e+01, 3.98933100e+02, 3.75959075e+02,\n",
       "       2.09303882e+02, 3.30268730e+02, 1.53900001e+02, 8.93202362e+01,\n",
       "       1.85060650e+02, 1.84987778e+02, 9.23971233e+01, 3.62302321e+02,\n",
       "       3.81221779e+02, 2.43354345e+02, 3.44905986e+02, 6.73012418e+01,\n",
       "       1.22781572e+02, 5.37342576e+01, 4.22606051e+02, 2.09741038e+02,\n",
       "       3.80544463e+01, 3.68958483e+02, 1.68124958e+02, 3.34001357e+02,\n",
       "       2.49813660e+01, 7.84808844e+00, 4.01113269e+02, 4.44951482e+02,\n",
       "       1.98613444e+02, 1.30756486e+01, 2.24207593e+02, 3.00877612e+02,\n",
       "       3.30666700e+02, 3.48850709e+02, 1.43845376e+02, 2.98883438e+02,\n",
       "       3.36727530e+02, 1.70062569e+02, 2.90623211e+01, 1.10354348e+02,\n",
       "       2.99383271e+02, 3.04433391e+02, 1.71170425e+02, 3.24040093e+02,\n",
       "       8.12141518e+01, 1.30482172e+02, 4.49166575e+02, 1.70116403e+02,\n",
       "       2.44928991e+02, 1.56022960e+02, 7.52017638e+01, 2.43914175e+02,\n",
       "       1.40668259e+02, 3.89712486e+02, 4.73999747e+02, 7.69779979e+00,\n",
       "       3.04996508e+02, 5.15969744e+01, 2.84498216e+02, 3.44499309e+02,\n",
       "       2.48138736e+02, 3.88378227e+02, 4.88404448e+02, 4.37905502e+02,\n",
       "       2.26596105e+02, 3.92700262e+02, 4.59382353e+02, 1.66206038e+02,\n",
       "       2.02009046e+02, 2.07718210e+02, 4.37376883e+02, 3.08288447e+02,\n",
       "       2.89540793e+02, 5.77450850e+01, 1.21668378e+02, 7.87087769e+01,\n",
       "       3.67009573e+02, 2.79681619e+02, 4.33303804e+02, 1.00470602e+02,\n",
       "       3.78531760e+02, 3.03751850e+02, 1.92238663e+01, 2.15881965e+02,\n",
       "       1.09274697e+02, 2.24768762e+02, 4.87036438e+02, 3.18162373e+02,\n",
       "       5.02298814e+02, 5.03650886e+01, 2.59925008e+02, 4.76305155e+02,\n",
       "       4.28177195e+01, 4.10665516e+02, 4.27296591e+02, 1.64507020e+02,\n",
       "       4.14013535e+00, 4.19191665e+02, 3.55944782e+02, 1.84503382e+02,\n",
       "       5.05938707e+02, 3.17293393e+02, 2.01144822e+02, 2.76997535e+02,\n",
       "       2.36085475e+02, 4.92268822e+02, 3.17303995e+02, 4.94801407e+02,\n",
       "       2.21084957e+02, 4.53959995e+01, 5.11077496e+02, 3.43410426e+02,\n",
       "       5.30716599e+02, 1.82523968e+02, 4.67468029e+02, 2.67246974e+02,\n",
       "       2.29252009e+00, 4.90659273e+02, 1.70492255e+02, 2.43038443e+01,\n",
       "       4.75550785e+02, 1.73613483e+00, 1.04278370e+02, 2.49826556e+02,\n",
       "       1.02958866e+02, 3.72283314e+02, 4.06839504e+02, 4.49828613e+02,\n",
       "       3.37914447e+01, 2.51651183e+01, 1.71318657e+02, 3.43711969e+02,\n",
       "       3.82882714e+02, 1.63829111e+02, 3.28499767e+02, 2.86985374e+02,\n",
       "       3.92659835e+02, 1.49156360e+02, 5.22960793e+02, 5.01824172e+00,\n",
       "       4.55447787e+02, 1.75985828e+02, 5.73104541e+01, 3.85715891e+02,\n",
       "       2.49454133e+02, 4.78849596e+02, 4.28188979e+02, 3.92682505e+02,\n",
       "       4.67960540e+02, 1.52476140e+01, 4.83958046e+01, 4.13992918e+02,\n",
       "       4.74206514e+02, 1.04628261e+02, 5.74600517e+02, 2.43543391e+02,\n",
       "       2.07440989e+02, 5.17938732e+02, 4.10168271e+02, 2.55098639e+02,\n",
       "       1.28612509e+02, 2.22521066e+00, 2.46994014e+02, 2.50968017e+02,\n",
       "       3.75515093e+02, 1.43241449e+02, 3.15311406e+02, 3.00151527e+02,\n",
       "       1.01137130e+02, 3.10542641e+02, 1.84470226e+02, 2.89948319e+02,\n",
       "       5.59399010e+02, 4.53113803e+02, 6.37653222e+01, 5.29990747e+02,\n",
       "       4.38005917e+02, 4.48185718e+02, 4.86225061e+02, 2.86658553e+02,\n",
       "       1.47979862e+02, 1.24013251e+02, 1.05876726e+02, 3.71814003e+02,\n",
       "       2.95043828e+02, 2.25387131e+02, 4.00324077e+02, 4.91233393e+02,\n",
       "       2.98879581e+02, 1.21682258e+02, 1.27286860e+02, 3.71759537e+01,\n",
       "       3.28277173e+02, 3.23989874e+02, 3.19513942e+01, 4.40611438e+02,\n",
       "       3.99854079e+02, 3.33282452e+02, 9.84664240e+01, 5.87838233e+02,\n",
       "       5.47625597e+02, 3.92748519e+01, 1.18927162e+02, 4.09398656e+02,\n",
       "       8.09828948e+01, 4.69736068e+02, 5.58176536e+02, 2.88384596e+02,\n",
       "       2.17914303e+02, 2.57831409e+02, 1.19779704e+02, 1.43350508e+02,\n",
       "       2.30400966e+02, 1.85283980e+02, 1.06561515e+02, 2.37555581e+02,\n",
       "       6.39552785e+02, 3.09799418e+02, 1.04131782e+01, 4.19766585e+02,\n",
       "       6.11084494e+02, 1.28790998e+02, 6.44657497e+02, 3.04857132e+02,\n",
       "       2.17404382e+02, 6.11938298e+02, 5.41871566e+02, 2.44222172e+02,\n",
       "       3.89942497e+01, 4.01546998e+02, 1.90493445e+02, 1.97644435e+02,\n",
       "       4.00116651e+02, 5.52842441e+02, 3.10904517e+02, 4.95505062e+01,\n",
       "       5.97171625e+02, 5.70570531e+02, 4.94412758e+02, 3.12898477e+02,\n",
       "       5.02800756e+01, 1.45440864e+00, 2.23717172e+02, 5.84129908e+02,\n",
       "       5.78547771e+02, 6.21853497e+02, 5.46232468e+02, 4.84738230e+02,\n",
       "       2.67136071e+02, 5.96693932e+02, 1.10062272e+02, 3.67342702e+02,\n",
       "       6.20750836e+02, 5.24481297e+02, 4.97591527e+02, 1.08130146e+02,\n",
       "       2.58129967e+02, 1.91118293e+02, 3.20150419e+01, 4.94852211e+02,\n",
       "       3.31541218e+02, 9.78970110e+01, 6.79963817e+02, 6.70233396e+02,\n",
       "       6.43472723e+02, 5.27607601e+01, 2.22891938e+02, 5.04379614e+02,\n",
       "       1.40168659e+02, 6.53878428e+02, 4.94719942e+02, 4.55041092e+02,\n",
       "       1.18940054e+02, 4.21431839e+02, 2.79239417e+02, 4.69108261e+02,\n",
       "       6.25638871e+00, 6.08910025e+02, 2.65275321e+02, 5.04457483e+02,\n",
       "       1.26821224e+02, 2.64507844e+01, 3.91324081e+01, 7.09839950e+02,\n",
       "       2.49106890e+02, 6.43405790e+02, 2.47503243e+02, 2.30888920e+02,\n",
       "       2.89196145e+02, 5.90011108e+02, 3.56813926e+02, 5.67852210e+02,\n",
       "       9.83104088e+01, 2.26179965e+02, 5.69124728e+02, 5.24985204e+01,\n",
       "       2.21475838e+02, 2.07039695e+02, 4.45627184e+02, 5.05445943e+02,\n",
       "       4.04223475e+02, 4.15137079e+02, 4.65250858e+02, 4.96035652e+02,\n",
       "       5.07067376e+02, 6.86074116e+02, 3.59059629e+02, 3.70058936e+02,\n",
       "       4.89426219e+02, 1.22950557e+01, 4.66711511e+02, 4.60880590e+02,\n",
       "       3.43322728e+02, 6.45084662e+02, 4.50089218e+02, 1.30172714e+01,\n",
       "       7.36459606e+01, 5.94722427e+02, 2.16092595e+02, 2.17198913e+02,\n",
       "       1.70447681e+02, 6.49070548e+02, 1.83162270e+02, 5.10343236e+01,\n",
       "       6.84097089e+02, 7.02570331e+00, 3.68147502e+02, 2.62944975e+01,\n",
       "       6.10451757e+02, 3.66378227e+01, 2.03680188e+02, 4.66231410e+01,\n",
       "       6.31485290e+01, 4.11873603e+01, 7.48244511e+02, 6.13918925e+02,\n",
       "       4.31536895e+02, 3.53018582e+02, 7.22225342e+02, 5.98571348e+02,\n",
       "       1.69108489e+02, 2.83648050e+02, 4.89269862e+02, 2.21183491e+02,\n",
       "       2.81986983e+02, 4.46836236e+02, 5.80338235e+02, 5.56538849e+02,\n",
       "       3.41174462e+01, 3.73715617e+02, 7.16608482e+02, 1.46422687e+02,\n",
       "       1.33414672e+02, 6.30556773e+02, 4.18225348e+02, 2.25210043e+01,\n",
       "       3.57825437e+02, 4.54416138e+02, 7.51099929e+01, 4.50825488e+01,\n",
       "       1.96843851e+02, 3.24270704e+02, 4.52727944e+02, 7.35128848e+02,\n",
       "       3.37860894e+02, 5.75331046e+02, 2.07620624e+02, 7.82624593e+02,\n",
       "       7.19311306e+02, 4.33078891e+01, 2.98493642e+02, 1.41709869e+02,\n",
       "       4.27780932e+02, 1.78218138e+02, 3.31522949e+02, 3.96006223e+02,\n",
       "       7.10348976e+02, 1.14803054e+02, 5.39891080e+02, 2.12288925e+02,\n",
       "       7.40558519e+02, 7.92615222e+02, 6.15591038e+01, 3.04306477e+02,\n",
       "       1.91458129e+01, 3.81676790e+02, 7.36419426e+02, 5.44824173e+02,\n",
       "       4.44325244e+02, 6.59555720e+01, 3.27367242e+02, 1.26920657e+02,\n",
       "       6.33954492e+02, 7.82264594e+02, 3.18990964e+01, 4.09331589e+01,\n",
       "       1.95795455e+02, 6.17525489e+02, 2.95610902e+02, 5.09242684e+02,\n",
       "       6.60785200e+02, 3.48801189e+01, 7.69116313e+02, 6.55403931e+02,\n",
       "       3.99714661e+02, 7.11832742e+02, 6.17466666e+02, 1.34521148e+02,\n",
       "       3.79288840e+02, 8.36260615e+02, 7.49859993e+02, 9.14467632e+00,\n",
       "       5.09774378e+02, 4.83962953e+02, 1.26404230e+00, 1.59968124e+02,\n",
       "       2.02401478e+02, 8.18744415e+01, 4.13230354e+02, 4.18459079e+02,\n",
       "       2.46500451e+02, 2.84760934e+02, 1.51326884e+02, 2.59585218e+02,\n",
       "       5.46556927e+02, 6.41072181e+02, 3.42620241e+02, 4.48922871e+02,\n",
       "       2.19161263e+02, 4.27436419e+02, 3.52049197e+02, 7.46976806e+02,\n",
       "       3.14135681e+02, 1.84001584e+02, 2.36584785e+02, 1.55981399e+02,\n",
       "       8.46894440e+02, 7.06130080e+02, 4.04861560e+02, 4.56271702e+02,\n",
       "       5.46362498e+02, 2.79979198e+02, 7.76394609e+02, 3.08104301e+01,\n",
       "       6.95352664e+02, 3.60916445e+02, 2.78442393e+02, 8.25464798e+02,\n",
       "       1.84812159e+02, 7.34267788e+02, 6.10223772e+02, 5.76484684e+02,\n",
       "       4.61277092e+02, 2.73466618e+02, 1.93759773e+02, 4.98378666e+02,\n",
       "       3.58531620e+02, 3.27666818e+02, 8.05139137e+02, 1.45876886e+02,\n",
       "       1.29450904e+02, 8.85486267e+02, 2.91298495e+02, 5.33678999e+02,\n",
       "       7.05733889e+02, 7.78802812e+02, 1.72408918e+01, 3.12829486e+02,\n",
       "       7.05517891e+02, 3.07066560e+02, 4.08391540e+02, 3.85870336e+02,\n",
       "       1.59354235e+02, 6.96443620e+01, 7.06072011e+02, 3.01287413e+02,\n",
       "       8.61530789e+02, 7.63111759e+02, 1.57626484e+02, 3.38569300e+02,\n",
       "       8.59627346e+02, 2.86175023e+02, 1.68751189e+02, 4.17641430e+02,\n",
       "       2.86679064e+02, 7.10387674e+02, 7.11839063e+01, 1.53661972e+02,\n",
       "       1.44524411e+02, 7.04826988e+02, 3.31690373e+02, 7.18164696e+02,\n",
       "       8.16658530e+02, 7.17707457e+02, 2.23167861e+01, 3.84454658e+02,\n",
       "       2.33228535e+02, 7.72425261e+02, 8.76058427e+02, 7.83232205e+02,\n",
       "       8.46328698e+02, 5.32435787e+01, 3.18084986e+02, 1.23245178e+02,\n",
       "       7.87632175e+02, 3.22990114e+02, 8.89357088e+02, 8.24060643e+02,\n",
       "       6.04470655e+02, 3.37027179e+02, 4.96610392e+02, 9.37412507e+01,\n",
       "       2.79558438e+02, 2.52295443e+02, 5.12086849e+02, 7.03791387e+02,\n",
       "       6.31481222e+01, 4.52769103e+02, 7.63477080e+02, 6.78307430e+01,\n",
       "       3.53243024e+01, 8.74857984e+02, 3.07500202e+02, 3.56855028e+02,\n",
       "       7.05276239e+02, 3.03354340e+02, 3.18194202e+02, 8.94649867e+02,\n",
       "       4.06890040e+02, 7.79035818e+02, 3.50716478e+02, 4.10206767e+02,\n",
       "       1.59008958e+02, 5.31282371e+02, 8.10397334e+02, 8.06692295e+02,\n",
       "       6.26668610e+02, 3.98882580e+02, 4.01849219e+02, 8.68493079e+02,\n",
       "       8.89334886e+02, 8.47043714e+02, 5.94704156e+01, 7.03051058e+02,\n",
       "       4.68421325e+02, 1.20547724e+02, 6.94391358e+02, 9.01190535e+02,\n",
       "       8.27615876e+02, 1.68808464e+02, 6.72343621e+02, 8.38238172e+02,\n",
       "       3.98455224e+01, 3.63121088e+02, 3.81393211e+02, 5.05558656e+02,\n",
       "       9.53221685e+02, 1.39217166e+02, 2.40451781e+01, 8.69331773e+02,\n",
       "       5.63166924e+02, 9.87021682e+02, 1.75033566e+02, 3.95864629e+02,\n",
       "       9.10479928e+02, 1.42557571e+02, 7.15825761e+02, 5.08262202e+02,\n",
       "       7.99596660e+02, 3.07615667e+02, 9.67273744e+02, 3.97188089e+02])"
      ]
     },
     "execution_count": 1,
     "metadata": {},
     "output_type": "execute_result"
    }
   ],
   "source": [
    "import random\n",
    "import numpy as np\n",
    "\n",
    "nums = np.array(range(1, 1001))\n",
    "sales_figures = nums * np.random.rand(1000)\n",
    "sales_figures"
   ]
  },
  {
   "cell_type": "markdown",
   "metadata": {},
   "source": [
    "We now have sales prices for 1000 items currently for sale at BuyStuff. Now create an RDD called `price_items` using the newly created data with 10 slices. After you create it, use one of the basic actions to see what's in the RDD."
   ]
  },
  {
   "cell_type": "code",
   "execution_count": null,
   "metadata": {},
   "outputs": [],
   "source": [
    "price_items = None\n"
   ]
  },
  {
   "cell_type": "markdown",
   "metadata": {},
   "source": [
    "Now let's perform some operations on this simple dataset. To begin with, create a function that will take into account how much money BuyStuff will receive after sales tax has been applied (assume a sales tax of 8%). To make this happen, create a function called `sales_tax()` that returns the amount of money our company will receive after the sales tax has been applied. The function will have this parameter:\n",
    "\n",
    "* `item`: (float) number to be multiplied by the sales tax.\n",
    "\n",
    "\n",
    "Apply that function to the rdd by using the `.map()` method and assign it to a variable `renenue_minus_tax`"
   ]
  },
  {
   "cell_type": "code",
   "execution_count": null,
   "metadata": {},
   "outputs": [],
   "source": [
    "def sales_tax(num):\n",
    "    pass\n",
    "\n",
    "revenue_minus_tax = None"
   ]
  },
  {
   "cell_type": "markdown",
   "metadata": {},
   "source": [
    "Remember, Spark has __lazy evaluation__, which means that the `sales_tax()` function is a transformer that is not executed until you call an action. Use one of the collection methods to execute the transformer now a part of the RDD and observe the contents of the `revenue_minus_tax` rdd."
   ]
  },
  {
   "cell_type": "code",
   "execution_count": null,
   "metadata": {
    "scrolled": true
   },
   "outputs": [],
   "source": [
    "# perform action to retrieve rdd values"
   ]
  },
  {
   "cell_type": "markdown",
   "metadata": {},
   "source": [
    "### Lambda Functions\n",
    "\n",
    "Note that you can also use lambda functions if you want to quickly perform simple operations on data without creating a function. Let's assume that BuyStuff has also decided to offer a 10% discount on all of their items on the pre-tax amounts of each item. Use a lambda function within a `.map()` method to apply the additional 10% loss in revenue for BuyStuff and assign the transformed RDD to a new RDD called `discounted`."
   ]
  },
  {
   "cell_type": "code",
   "execution_count": null,
   "metadata": {},
   "outputs": [],
   "source": [
    "discounted = None"
   ]
  },
  {
   "cell_type": "code",
   "execution_count": null,
   "metadata": {
    "scrolled": true
   },
   "outputs": [],
   "source": [
    "discounted.take(10)"
   ]
  },
  {
   "cell_type": "markdown",
   "metadata": {},
   "source": [
    "## Chaining Methods\n",
    "\n",
    "You are also able to chain methods together with Spark. In one line, remove the tax and discount from the revenue of BuyStuff and use a collection method to see the 15 costliest items."
   ]
  },
  {
   "cell_type": "code",
   "execution_count": null,
   "metadata": {
    "scrolled": true
   },
   "outputs": [],
   "source": []
  },
  {
   "cell_type": "markdown",
   "metadata": {},
   "source": [
    "## RDD Lineage\n",
    "\n",
    "\n",
    "We are able to see the full lineage of all the operations that have been performed on an RDD by using the `RDD.toDebugString()` method. As your transformations become more complex, you are encouraged to call this method to get a better understanding of the dependencies between RDDs. Try calling it on the `discounted` RDD to see what RDDs it is dependent on."
   ]
  },
  {
   "cell_type": "code",
   "execution_count": null,
   "metadata": {},
   "outputs": [],
   "source": []
  },
  {
   "cell_type": "markdown",
   "metadata": {},
   "source": [
    "### Map vs. Flatmap\n",
    "\n",
    "Depending on how you want your data to be outputted, you might want to use `.flatMap()` rather than a simple `.map()`. Let's take a look at how it performs operations versus the standard map. Let's say we wanted to maintain the original amount BuyStuff receives for each item as well as the new amount after the tax and discount are applied. Create a map function that will return a tuple with (original price, post-discount price)."
   ]
  },
  {
   "cell_type": "code",
   "execution_count": null,
   "metadata": {},
   "outputs": [],
   "source": [
    "mapped =None\n",
    "print(mapped.count())\n",
    "print(mapped.take(10))"
   ]
  },
  {
   "cell_type": "markdown",
   "metadata": {},
   "source": [
    "Note that we have 1000 tuples created to our specification. Let's take a look at how `.flatMap()` differs in its implementation. Use the `.flatMap()` method with the same function you created above."
   ]
  },
  {
   "cell_type": "code",
   "execution_count": null,
   "metadata": {},
   "outputs": [],
   "source": [
    "flat_mapped = None\n",
    "print(flat_mapped.count())\n",
    "print(flat_mapped.take(10))"
   ]
  },
  {
   "cell_type": "markdown",
   "metadata": {},
   "source": [
    "Rather than being represented by tuples, all of the  values are now on the same level. When we are trying to combine different items together, it is sometimes necessary to use `.flatMap()` rather than `.map()` in order to properly reduce to our specifications. This is not one of those instances, but in the upcoming lab, you just might have to use it."
   ]
  },
  {
   "cell_type": "markdown",
   "metadata": {},
   "source": [
    "## Filter\n",
    "After meeting with some external consultants, BuyStuff has determined that its business will be more profitable if it focuses on higher ticket items. Now, use the `.filter()` method to select items that bring in more than $300 after tax and discount have been removed. A filter method is a specialized form of a map function that only returns the items that match a certain criterion. In the cell below:\n",
    "* use a lambda function within a `.filter()` method to meet the consultant's suggestion's specifications. set `RDD = selected_items`\n",
    "* calculate the total number of items remaining in BuyStuff's inventory"
   ]
  },
  {
   "cell_type": "code",
   "execution_count": null,
   "metadata": {},
   "outputs": [],
   "source": [
    "# use the filter function\n",
    "selected_items = None\n",
    "\n",
    "# calculate total remaining in inventory \n"
   ]
  },
  {
   "cell_type": "markdown",
   "metadata": {},
   "source": [
    "## Reduce\n",
    "\n",
    "Reduce functions are where you are in some way combing all of the variables that you have mapped out. Here is an example of how a reduce function works when the task is to sum all values:\n",
    "\n",
    "<img src = \"./images/reduce_function.png\" width = \"600\">  \n",
    "\n",
    "\n",
    "As you can see, the operation is performed within each partition first, after which, the results of the computations in each partition are combined to come up with one final answer.  \n",
    "\n",
    "Now it's time to figure out how much money BuyStuff would make from selling one of all of its items after they've reduced their inventory. Use the `.reduce()` method with a lambda function to add up all of the values in the RDD. Your lambda function should have two variables. "
   ]
  },
  {
   "cell_type": "code",
   "execution_count": null,
   "metadata": {},
   "outputs": [],
   "source": []
  },
  {
   "cell_type": "markdown",
   "metadata": {},
   "source": [
    "The time has come for BuyStuff to open up shop and start selling its goods. It only has one of each item, but it's allowing 50 lucky users to buy as many items as they want while they remain in stock. Within seconds, BuyStuff is sold out. Below, you'll find the sales data in an RDD with tuples of (user, item bought)."
   ]
  },
  {
   "cell_type": "code",
   "execution_count": null,
   "metadata": {},
   "outputs": [],
   "source": [
    "import random\n",
    "random.seed(42)\n",
    "# generating simulated users that have bought each item\n",
    "sales_data = selected_items.map(lambda x: (random.randint(1, 50), x))\n",
    "\n",
    "sales_data.take(7)"
   ]
  },
  {
   "cell_type": "markdown",
   "metadata": {},
   "source": [
    "It's time to determine some basic statistics about BuyStuff users.\n",
    "\n",
    "Let's start off by creating an RDD that determines how much each user spent in total.\n",
    "To do this we can use a method called `.reduceByKey()` to perform reducing operations while grouping by keys. After you have calculated the total, use the `.sortBy()` method on the RDD to rank the users from the highest spending to the least spending. "
   ]
  },
  {
   "cell_type": "code",
   "execution_count": null,
   "metadata": {},
   "outputs": [],
   "source": [
    "# calculate how much each user spent"
   ]
  },
  {
   "cell_type": "code",
   "execution_count": null,
   "metadata": {},
   "outputs": [],
   "source": [
    "# sort the users from highest to lowest spenders\n"
   ]
  },
  {
   "cell_type": "markdown",
   "metadata": {},
   "source": [
    "Next, let's determine how many items were bought per user. This can be solved in one line using an RDD method. After you've counted the total number of items bought per person, sort the users from most number of items bought to least number of items. Time to start a customer loyalty program!"
   ]
  },
  {
   "cell_type": "code",
   "execution_count": null,
   "metadata": {},
   "outputs": [],
   "source": []
  },
  {
   "cell_type": "markdown",
   "metadata": {},
   "source": [
    "### Additional Reading\n",
    "\n",
    "- [The original paper on RDDs](https://cs.stanford.edu/~matei/papers/2012/nsdi_spark.pdf)\n",
    "- [RDDs in Apache Spark](https://data-flair.training/blogs/create-rdds-in-apache-spark/)\n",
    "- [Programming with RDDs](https://runawayhorse001.github.io/LearningApacheSpark/rdd.html)\n",
    "- [RDD Transformations and Actions Summary](https://www.analyticsvidhya.com/blog/2016/10/using-pyspark-to-perform-transformations-and-actions-on-rdd/)"
   ]
  },
  {
   "cell_type": "markdown",
   "metadata": {},
   "source": [
    "## Summary\n",
    "\n",
    "In this lab we went through a brief introduction to RDD creation from a Python collection, setting a number of logical partitions for an RDD and extracting lineage. We also used transformations and actions to perform calculations across RDDs on a distributed setup. In the next lab, you'll get the chance to apply these transformations on different books to calculate word counts and various statistics.\n"
   ]
  }
 ],
 "metadata": {
  "kernelspec": {
   "display_name": "Python 3",
   "language": "python",
   "name": "python3"
  },
  "language_info": {
   "codemirror_mode": {
    "name": "ipython",
    "version": 3
   },
   "file_extension": ".py",
   "mimetype": "text/x-python",
   "name": "python",
   "nbconvert_exporter": "python",
   "pygments_lexer": "ipython3",
   "version": "3.6.9"
  }
 },
 "nbformat": 4,
 "nbformat_minor": 2
}
